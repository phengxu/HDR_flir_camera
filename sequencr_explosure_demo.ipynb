{
 "cells": [
  {
   "cell_type": "code",
   "execution_count": 1,
   "metadata": {},
   "outputs": [],
   "source": [
    "import cv2 as cv2\n",
    "import numpy as np # must first import numpy before import pyspin\n",
    "import PySpin\n",
    "from time import sleep\n",
    "import threading\n",
    "import os\n",
    "import sys\n",
    "import copy\n",
    "\n",
    "# Hold image sequences\n",
    "IMAGES = None"
   ]
  },
  {
   "cell_type": "code",
   "execution_count": 2,
   "metadata": {},
   "outputs": [],
   "source": [
    "class SystemEventHandler(PySpin.InterfaceEventHandler):\n",
    "    def __init__(self):\n",
    "        super(SystemEventHandler, self).__init__()\n",
    "        # self.cameras = None\n",
    "        # self.system = system\n",
    "    def OnDeviceArrival(self, serial_number):\n",
    "        print('Device {} arrival...........'.format(serial_number))\n",
    "        print('相机 %s 已经连接成功' % serial_number)\n",
    "        \n",
    "    def OnDeviceRemoval(self, serial_number):\n",
    "        # callback_stop_this_camera(serial_number)\n",
    "        print('相机 %s 失去连接!，请检查相机，连接正常后重启系统.....' % serial_number)\n",
    "        \n",
    "   "
   ]
  },
  {
   "cell_type": "code",
   "execution_count": 1,
   "metadata": {},
   "outputs": [],
   "source": [
    "class Camera(object):\n",
    "    def __init__(self, cam,callbacks):\n",
    "        self.taskrun = True\n",
    "        self.cam = cam\n",
    "        self.image = None\n",
    "        self.image_list = []\n",
    "        self.callback = callbacks\n",
    "        t = threading.Thread(target = self.run,args = (self.cam, self.callback)) \n",
    "        t.daemon = True\n",
    "        t.start()\n",
    "        \n",
    "\n",
    "    def run(self, cam, callbacks):\n",
    "        print(\"start while loop........\")\n",
    "        while self.taskrun: #self.start_acquire_image: #not stop_event:\n",
    "            try:\n",
    "                self.image = cam.GetNextImage()\n",
    "                if self.image.IsIncomplete():\n",
    "                    print('Image incomplete with image status %d ...' % self.image.GetImageStatus())\n",
    "                    print(self.image.GetTimeStamp())\n",
    "                    # print(\"image incoming...................\")\n",
    "                else:\n",
    "                    '''\n",
    "                    # Convert to mono8 asignt to kivy global img\n",
    "                    '''\n",
    "                    image_converted = self.image.Convert(PySpin.PixelFormat_BayerRG8, PySpin.HQ_LINEAR)\n",
    "                    img_arr = image_converted.GetNDArray()\n",
    "                    #img_arr_c = copy.deepcopy(img_arr)\n",
    "                    #self.count += 1\n",
    "                    #image_c = copy.deepcopy(image_converted)\n",
    "                    # call image proccess to fusion imaage\n",
    "                    if len(self.image_list)< 3:\n",
    "                        self.image_list.append(img_arr)\n",
    "                    else:\n",
    "                        callbacks(self.image_list)\n",
    "                        self.taskrun = False\n",
    "                    # clear buffer from camera\n",
    "                    self.image.Release()\n",
    "                    print('image getting success....')\n",
    "            except PySpin.SpinnakerException as ex:\n",
    "                print('in image event polling images!')\n",
    "                print(ex)\n",
    "                "
   ]
  },
  {
   "cell_type": "code",
   "execution_count": 4,
   "metadata": {},
   "outputs": [],
   "source": [
    "# display to screen\n",
    "#self.texture.blit_buffer(bytes(config.V_STACK_IMGS), colorfmt='rgb', bufferfmt='ubyte')\n",
    "def callback(image_list):\n",
    "    # read image from buffer\n",
    "    '''\n",
    "    images = []\n",
    "    for img in image_list:\n",
    "        #arr = np.asarray(bytearray(img), dtype=np.uint8)\n",
    "        \n",
    "        \n",
    "        #image = cv2.imdecode(np.frombuffer(arr, np.uint8), cv2.IMREAD_ANYCOLOR)\n",
    "        image = cv2.cvtColor(img, cv2.COLOR_RGB2BGR)\n",
    "        images.append(image)\n",
    "    print('image number', len(images))\n",
    "    \n",
    "    '''\n",
    "    \n",
    "    #img_list = [cv.imread(fn) for fn in img_fn]\n",
    "    images = [cv2.cvtColor(img, cv2.COLOR_BayerRG2BGR) for img in image_list]\n",
    "    # Exposure fusion using Mertens\n",
    "    merge_mertens = cv2.createMergeMertens()\n",
    "    res_mertens = merge_mertens.process(images)\n",
    "    print('go to end of hdr ....')\n",
    "    # Convert datatype to 8-bit and show\n",
    "    global IMAGES\n",
    "    IMAGES = np.clip(res_mertens*255, 0, 255).astype('uint8')\n",
    "    \n",
    "\n",
    "\n",
    "def _change_mono_to_rgb_format(img):\n",
    "    # combine single gray channel to three channel for \n",
    "    # further mark process\n",
    "    return cv2.merge([img,img,img])"
   ]
  },
  {
   "cell_type": "code",
   "execution_count": 5,
   "metadata": {},
   "outputs": [],
   "source": [
    "from numpy import true_divide\n",
    "\n",
    "\n",
    "def main():\n",
    "    result = True\n",
    "     # Retrieve singleton reference to system object\n",
    "    system = PySpin.System.GetInstance()\n",
    "\n",
    "    # Retrieve list of cameras from the system\n",
    "    cam_list = system.GetCameras()\n",
    "\n",
    "    num_cameras = cam_list.GetSize()\n",
    "\n",
    "    print('Number of cameras detected: %d' % num_cameras)\n",
    "\n",
    "    # Finish if there are no cameras\n",
    "    if num_cameras == 0:\n",
    "\n",
    "        # Clear camera list before releasing system\n",
    "        cam_list.Clear()\n",
    "\n",
    "        # Release system instance\n",
    "        system.ReleaseInstance()\n",
    "\n",
    "        print('Not enough cameras!')\n",
    "        input('Done! Press Enter to exit...')\n",
    "        return False\n",
    "\n",
    "    # Run example on each camera\n",
    "    for i, cam in enumerate(cam_list):\n",
    "\n",
    "        print('Running example for camera %d...' % i)\n",
    "        cam.Init()\n",
    "        sleep(3)\n",
    "        print(\"sleeping.....\")\n",
    "        cam.BeginAcquisition()\n",
    "        sleep(1)\n",
    "        camera = Camera(cam, callback)\n",
    "        print('Camera %d example running... \\n' % i)\n",
    "\n",
    "    # Release reference to camera\n",
    "    # NOTE: Unlike the C++ examples, we cannot rely on pointer objects being automatically\n",
    "    # cleaned up when going out of scope.\n",
    "    # The usage of del is preferred to assigning the variable to None.\n",
    "    display = True\n",
    "    while display:\n",
    "        if IMAGES is None:\n",
    "            continue\n",
    "        else:\n",
    "            im = cv2.resize(IMAGES, (820, 600))    \n",
    "            cv2.imshow('Image', im)\n",
    "            cv2.waitKey(0)\n",
    "            display = False\n",
    "    input(\"press any key stop.....\")\n",
    "    cam.EndAcquisition()\n",
    "    # Deinitialize camera \n",
    "    cam.DeInit()\n",
    "    del camera\n",
    "    del cam\n",
    "\n",
    "    # Clear camera list before releasing system\n",
    "    cam_list.Clear()\n",
    "\n",
    "    # Release system instance\n",
    "    system.ReleaseInstance()  \n",
    "\n",
    "    #input('Done! Press Enter to exit...')\n",
    "    return result\n",
    "\n"
   ]
  },
  {
   "cell_type": "code",
   "execution_count": 6,
   "metadata": {},
   "outputs": [
    {
     "name": "stdout",
     "output_type": "stream",
     "text": [
      "Number of cameras detected: 1\n",
      "Running example for camera 0...\n",
      "start while loop........\n",
      "Camera 0 example running... \n",
      "\n",
      "image getting success....\n",
      "image getting success....\n",
      "image getting success....\n",
      "go to end of hdr ....\n",
      "image getting success....\n"
     ]
    },
    {
     "ename": "",
     "evalue": "",
     "output_type": "error",
     "traceback": [
      "\u001b[1;31mCanceled future for execute_request message before replies were done"
     ]
    },
    {
     "ename": "",
     "evalue": "",
     "output_type": "error",
     "traceback": [
      "\u001b[1;31mThe Kernel crashed while executing code in the the current cell or a previous cell. Please review the code in the cell(s) to identify a possible cause of the failure. Click <a href='https://aka.ms/vscodeJupyterKernelCrash'>here</a> for more info. View Jupyter <a href='command:jupyter.viewOutput'>log</a> for further details."
     ]
    }
   ],
   "source": [
    "#print(cv.__version__)\n",
    "if __name__ == '__main__':\n",
    "    if main():\n",
    "        sys.exit(0)\n",
    "    else:\n",
    "        sys.exit(1)\n"
   ]
  },
  {
   "cell_type": "code",
   "execution_count": 38,
   "metadata": {},
   "outputs": [
    {
     "name": "stdout",
     "output_type": "stream",
     "text": [
      "4.5.5\n"
     ]
    }
   ],
   "source": [
    "print(cv2.__version__)"
   ]
  }
 ],
 "metadata": {
  "kernelspec": {
   "display_name": "Python 3.8.0 ('flir_opencv')",
   "language": "python",
   "name": "python3"
  },
  "language_info": {
   "codemirror_mode": {
    "name": "ipython",
    "version": 3
   },
   "file_extension": ".py",
   "mimetype": "text/x-python",
   "name": "python",
   "nbconvert_exporter": "python",
   "pygments_lexer": "ipython3",
   "version": "3.8.13"
  },
  "orig_nbformat": 4,
  "vscode": {
   "interpreter": {
    "hash": "02e4a2289580b7d427351f7b80a80a6fcde777a6e4deeb4419a7d34ea315ce04"
   }
  }
 },
 "nbformat": 4,
 "nbformat_minor": 2
}
